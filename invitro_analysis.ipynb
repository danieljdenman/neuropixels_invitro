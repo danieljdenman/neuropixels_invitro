{
 "cells": [
  {
   "cell_type": "markdown",
   "metadata": {},
   "source": [
    "imports"
   ]
  },
  {
   "cell_type": "code",
   "execution_count": null,
   "metadata": {},
   "outputs": [],
   "source": [
    "import numpy as np\n",
    "import os,sys,glob\n",
    "import matplotlib.pyplot as plt\n",
    "import re\n",
    "import fnmatch\n",
    "import h5py\n",
    "import csv\n",
    "# import seaborn as sns\n",
    "# sns.set(style='ticks', context='talk') #aesthetics\n",
    "# plt.style.use(\"dark_background\") #aesthetics"
   ]
  },
  {
   "cell_type": "code",
   "execution_count": null,
   "metadata": {},
   "outputs": [],
   "source": [
    "import openephys.OpenEphys as oe\n",
    "from braintv_ephys_dev.workstation.danield.generalephys import option234_positions\n",
    "def get_chunk(mm,start,end,channels,sampling_rate=30000):\n",
    "\tduration = end - start\n",
    "\tsamples = int(np.round(duration * sampling_rate))\n",
    "\tstart_sample = int(start*sampling_rate)*int(channels)\n",
    "\tchunk = mm[start_sample:\\\n",
    "\t\t\t   start_sample + samples * int(channels)]#int(int(np.floor(np.ceil(end*sampling_rate))*(int(channels))))]\n",
    "\t#print np.shape(chunk)\n",
    "\treturn np.reshape(chunk,(int(channels),-1),order='F')  * (0.195)"
   ]
  },
  {
   "cell_type": "code",
   "execution_count": 1,
   "metadata": {},
   "outputs": [],
   "source": [
    "def load_phy_spiketimes(path):\n",
    "    all_spiketimes = []\n",
    "    all_cluster_numbers = []\n",
    "\n",
    "    clusters_data = np.load(os.path.join(path,'spike_clusters.npy'))\n",
    "    spikes_data = np.load(os.path.join(path,'spike_times.npy'))\n",
    "    spike_templates = np.load(os.path.join(path,'spike_templates.npy'))\n",
    "    templates = np.load(os.path.join(path,'templates.npy'))\n",
    "\n",
    "    cluster_groups = []\n",
    "    [cluster_groups.append(row) for row in csv.reader(open(os.path.join(path,'cluster_group.tsv')))];\n",
    "    spiketime_information = {}\n",
    "    for i in np.arange(1,np.shape(cluster_groups)[0]):\n",
    "        if cluster_groups[i][0].split('\\t')[1] == 'good':           #if it is a 'good' cluster by manual sort\n",
    "            unit = int(cluster_groups[i][0].split('\\t')[0])\n",
    "            spiketime_information[str(unit)] = {}\n",
    "\n",
    "            spiketime_information[str(unit)]['spike_times'] = spikes_data[np.where(clusters_data==unit)]/30000.    \n",
    "            spiketime_information[str(unit)]['spike_times']= spiketime_information[str(unit)]['spike_times'].flatten()\n",
    "\n",
    "            #get the mean template used for this unit\n",
    "            all_templates = spike_templates[np.where(clusters_data==unit)].flatten()\n",
    "            n_templates_to_subsample = 100\n",
    "            random_subsample_of_templates = templates[all_templates[np.array(np.random.rand(n_templates_to_subsample)*all_templates.shape[0]).astype(int)]]\n",
    "            mean_template = np.mean(random_subsample_of_templates,axis=0)\n",
    "            spiketime_information[str(unit)]['template'] = mean_template\n",
    "\n",
    "            #take a weighted average of the channelmap, where the weights is the absolute value of the template for that channel\n",
    "            #this gets us the x and y positions of the unit on the probe.\n",
    "    #         if 'channelmap' in kwargs.keys():\n",
    "    #             channelmap = kwargs['channelmap']\n",
    "    #             weights = np.zeros(channelmap.shape)\n",
    "    #             for channel in range(channelmap.shape[0]):\n",
    "    #                 weights[channel,:]=np.trapz(np.abs(mean_template.T[channel,:]))\n",
    "    #             weights = weights/np.max(weights)\n",
    "    #             (xpos,ypos)=np.average(channelmap,axis=0,weights=weights)\n",
    "    #         else:\n",
    "            (xpos,ypos)=(np.nan,np.nan)\n",
    "    #         spiketime_information[str(unit)]['xpos'] = xpos + 6\n",
    "    #         spiketime_information[str(unit)]['ypos'] = ypos - channelmap[-1][1]\n",
    "\n",
    "            all_spiketimes.extend(spiketime_information[str(unit)]['spike_times'])\n",
    "            all_cluster_numbers.extend(np.array(np.ones(len(spiketime_information[str(unit)]['spike_times']))*unit).tolist())\n",
    "    return spiketime_information"
   ]
  },
  {
   "cell_type": "markdown",
   "metadata": {},
   "source": [
    "# define paths here\n",
    "these should be full paths [string]"
   ]
  },
  {
   "cell_type": "code",
   "execution_count": null,
   "metadata": {},
   "outputs": [],
   "source": [
    "slice_nwb_path = np.sort(glob.glob('/Users/danieljdenman/Desktop/cache/meanhwan/2019-06-25_14-59-04/*.nwb'))[0]\n",
    "path = os.path.join(os.path.dirname(slice_nwb_path),'sort1')"
   ]
  },
  {
   "cell_type": "markdown",
   "metadata": {},
   "source": [
    "## load data from pipettes and sorted neuropixels data"
   ]
  },
  {
   "cell_type": "code",
   "execution_count": null,
   "metadata": {},
   "outputs": [],
   "source": [
    "d = h5py.File(slice_nwb_path)\n",
    "spiketime_information = load_phy_spiketimes()path"
   ]
  },
  {
   "cell_type": "markdown",
   "metadata": {},
   "source": [
    "## load sync data from pipettes and sorted neuropixels data"
   ]
  },
  {
   "cell_type": "code",
   "execution_count": 12,
   "metadata": {},
   "outputs": [
    {
     "name": "stdout",
     "output_type": "stream",
     "text": [
      "loading events...\n"
     ]
    }
   ],
   "source": [
    "TTL0 = np.array([list(d['stimulus']['presentation'][k]['starting_time'])[0] for k in fnmatch.filter(list(d['stimulus']['presentation']), 'data_*_TTL0*')]             )\n",
    "npix_events = oe.loadEvents(glob.glob(os.path.join(os.path.dirname(slice_nwb_path),'*channels*.events'))[0])\n",
    "ch0 = npix_events['timestamps'][npix_events['channel']==0] - start_time\n"
   ]
  },
  {
   "cell_type": "code",
   "execution_count": 13,
   "metadata": {},
   "outputs": [],
   "source": [
    "start_time = int(open(glob.glob(os.path.join(os.path.dirname(slice_nwb_path),'*messages*.events'))[0]).readlines()[0].split(' ')[0])/30000.\n"
   ]
  },
  {
   "cell_type": "markdown",
   "metadata": {},
   "source": [
    "compare the events from the two systems"
   ]
  },
  {
   "cell_type": "code",
   "execution_count": 15,
   "metadata": {},
   "outputs": [
    {
     "data": {
      "text/plain": [
       "(0.9, 1.3)"
      ]
     },
     "execution_count": 15,
     "metadata": {},
     "output_type": "execute_result"
    },
    {
     "data": {
      "image/png": "[encoded data removed]",
      "text/plain": [
       "<Figure size 432x288 with 1 Axes>"
      ]
     },
     "metadata": {
      "needs_background": "light"
     },
     "output_type": "display_data"
    }
   ],
   "source": [
    "npix_ch0_times = ch0[8:][::2]/30000.\n",
    "patch_ch0_times = TTL0[672 - int(len(ch0)/2):671]\n",
    "plt.plot(npix_ch0_times-npix_ch0_times[0],np.ones(len(npix_ch0_times)),'|',label='npix events')\n",
    "plt.plot(patch_ch0_times - patch_ch0_times[0],np.ones(len(patch_ch0_times))*1.2,'|',label='patch events')\n",
    "plt.legend()\n",
    "plt.ylim(0.9,1.3)\n",
    "# plt.xlim(2000,2100)"
   ]
  },
  {
   "cell_type": "code",
   "execution_count": 16,
   "metadata": {},
   "outputs": [
    {
     "data": {
      "text/plain": [
       "[<matplotlib.lines.Line2D at 0x7fa1ca210f28>]"
      ]
     },
     "execution_count": 16,
     "metadata": {},
     "output_type": "execute_result"
    },
    {
     "data": {
      "image/png": "[encoded data removed]",
      "text/plain": [
       "<Figure size 432x288 with 1 Axes>"
      ]
     },
     "metadata": {
      "needs_background": "light"
     },
     "output_type": "display_data"
    }
   ],
   "source": [
    "plt.plot(np.diff(npix_ch0_times[:5d3]))\n",
    "plt.plot(np.diff(patch_ch0_times[:54]))"
   ]
  },
  {
   "cell_type": "code",
   "execution_count": 17,
   "metadata": {},
   "outputs": [],
   "source": [
    "patch_ch0_mask = np.ones(len(patch_ch0_times), dtype=bool)\n",
    "patch_ch0_mask[52]=False\n",
    "patch_ch0_mask[53]=False\n",
    "patch_ch0_redacted = patch_ch0_times[patch_ch0_mask]"
   ]
  },
  {
   "cell_type": "code",
   "execution_count": 18,
   "metadata": {},
   "outputs": [
    {
     "data": {
      "text/plain": [
       "[<matplotlib.lines.Line2D at 0x7fa1f827ee48>]"
      ]
     },
     "execution_count": 18,
     "metadata": {},
     "output_type": "execute_result"
    },
    {
     "data": {
      "image/png": "[encoded data removed]",
      "text/plain": [
       "<Figure size 432x288 with 1 Axes>"
      ]
     },
     "metadata": {
      "needs_background": "light"
     },
     "output_type": "display_data"
    }
   ],
   "source": [
    "plt.plot(np.diff(npix_ch0_times))\n",
    "# plt.plot(np.diff(patch_ch0_times[patch_ch0_mask]))\n",
    "plt.plot(np.diff(patch_ch0_redacted))\n"
   ]
  },
  {
   "cell_type": "code",
   "execution_count": null,
   "metadata": {},
   "outputs": [],
   "source": [
    "patch_ch0_times = patch_ch0_redacted"
   ]
  },
  {
   "cell_type": "code",
   "execution_count": null,
   "metadata": {},
   "outputs": [],
   "source": [
    "offset= npix_ch0_times[0]-start_time - patch_ch0_times[0]"
   ]
  },
  {
   "cell_type": "code",
   "execution_count": null,
   "metadata": {},
   "outputs": [],
   "source": []
  },
  {
   "cell_type": "markdown",
   "metadata": {},
   "source": [
    "digest some pipette data"
   ]
  },
  {
   "cell_type": "code",
   "execution_count": null,
   "metadata": {},
   "outputs": [],
   "source": [
    "pip3_spike_times = []\n",
    "for tr in fnmatch.filter(list(d['acquisition']['timeseries']), 'data_*_AD3*'):\n",
    "    starting_time = np.array(d['acquisition']['timeseries'][tr]['starting_time'])[0]    \n",
    "    temp=np.array(d['acquisition']['timeseries'][tr]['data'])    \n",
    "    tts = cross_from_below(temp,0)/d['acquisition']['timeseries'][tr]['starting_time'].attrs['rate'] + starting_time + offset - .252265\n",
    "    pip3_spike_times.extend(tts)"
   ]
  },
  {
   "cell_type": "code",
   "execution_count": null,
   "metadata": {},
   "outputs": [],
   "source": []
  },
  {
   "cell_type": "markdown",
   "metadata": {},
   "source": [
    "interactive plot of neuropixels data with pipette data"
   ]
  },
  {
   "cell_type": "code",
   "execution_count": null,
   "metadata": {},
   "outputs": [],
   "source": []
  },
  {
   "cell_type": "code",
   "execution_count": null,
   "metadata": {},
   "outputs": [],
   "source": []
  },
  {
   "cell_type": "markdown",
   "metadata": {},
   "source": [
    "pipette spike triggered average of neuropixels"
   ]
  },
  {
   "cell_type": "code",
   "execution_count": null,
   "metadata": {},
   "outputs": [],
   "source": []
  },
  {
   "cell_type": "code",
   "execution_count": null,
   "metadata": {},
   "outputs": [],
   "source": []
  },
  {
   "cell_type": "code",
   "execution_count": null,
   "metadata": {},
   "outputs": [],
   "source": []
  },
  {
   "cell_type": "code",
   "execution_count": null,
   "metadata": {},
   "outputs": [],
   "source": [
    "plt.imshow(spiketime_information[cell]['template'].T)\n",
    "plt.figure()\n",
    "good = []\n",
    "for i,ch in enumerate(spiketime_information[cell]['template'].T):\n",
    "    x_ = option234_positions[::-1][i][0]*5\n",
    "    y_ = option234_positions[::-1][i][1]\n",
    "    plt.plot(np.linspace(x_,x_+len(ch),len(ch)),ch+y_*.003,'k')\n",
    "    if np.max(np.abs(ch)) > 0.05: good.extend([ch])\n",
    "# plt.ylim(-.2,.1)\n",
    "plt.title('channels with signal > 50uv: '+str(len(good)))\n",
    "# plt.gcf().savefig(os.path.join('/Users/danieljdenman/Dropbox/allenTransfer/invitropanels','npix_template.png'),format='png',dpi=600)"
   ]
  }
 ],
 "metadata": {
  "kernelspec": {
   "display_name": "Python 3",
   "language": "python",
   "name": "python3"
  },
  "language_info": {
   "codemirror_mode": {
    "name": "ipython",
    "version": 3
   },
   "file_extension": ".py",
   "mimetype": "text/x-python",
   "name": "python",
   "nbconvert_exporter": "python",
   "pygments_lexer": "ipython3",
   "version": "3.7.1"
  }
 },
 "nbformat": 4,
 "nbformat_minor": 2
}
